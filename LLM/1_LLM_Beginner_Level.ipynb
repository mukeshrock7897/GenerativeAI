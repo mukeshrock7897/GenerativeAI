{
  "nbformat": 4,
  "nbformat_minor": 0,
  "metadata": {
    "colab": {
      "provenance": [],
      "authorship_tag": "ABX9TyNlklliVlHuMLo7ceTi5a8j",
      "include_colab_link": true
    },
    "kernelspec": {
      "name": "python3",
      "display_name": "Python 3"
    },
    "language_info": {
      "name": "python"
    }
  },
  "cells": [
    {
      "cell_type": "markdown",
      "metadata": {
        "id": "view-in-github",
        "colab_type": "text"
      },
      "source": [
        "<a href=\"https://colab.research.google.com/github/mukeshrock7897/GenerativeAI/blob/main/1_LLM_Beginner_Level.ipynb\" target=\"_parent\"><img src=\"https://colab.research.google.com/assets/colab-badge.svg\" alt=\"Open In Colab\"/></a>"
      ]
    },
    {
      "cell_type": "markdown",
      "source": [
        "# **Large Language Models (LLMs)**\n",
        "\n",
        "# **Beginner Level**\n",
        "1. Introduction to Large Language Models\n",
        "    * What are LLMs?\n",
        "    * History and evolution of LLMs\n",
        "    * Key concepts and terminology\n",
        "\n",
        "2. Types of Language Models\n",
        "    * Overview of different types of language models\n",
        "    * Difference between small and large language models\n",
        "\n",
        "3. Applications of LLMs\n",
        "    * Text generation\n",
        "    * Translation\n",
        "    * Summarization\n",
        "    * Question answering\n",
        "    * Conversational AI\n",
        "\n",
        "4. Ethical and Social Implications\n",
        "    * Bias and fairness in LLMs\n",
        "    * Privacy concerns\n",
        "    * Ethical use of LLMs\n"
      ],
      "metadata": {
        "id": "LO-UBFoqhCIv"
      }
    },
    {
      "cell_type": "markdown",
      "source": [
        "# **1. Introduction to Large Language Models**\n",
        "\n",
        "**What are LLMs?**\n",
        "\n",
        "* Large Language Models (LLMs) are a type of artificial intelligence model designed to understand and generate human language. They are trained on vast amounts of text data and can perform a variety of language-related tasks.\n",
        "\n",
        "**Example:**\n",
        "* An LLM can generate text, answer questions, and translate languages."
      ],
      "metadata": {
        "id": "vMc15IeiiVVg"
      }
    },
    {
      "cell_type": "code",
      "execution_count": 2,
      "metadata": {
        "id": "ZprWBkMaLePC"
      },
      "outputs": [],
      "source": [
        "from transformers import pipeline\n",
        "\n",
        "# Load a pre-trained language model\n",
        "model = pipeline('text-generation', model='gpt-2')\n",
        "\n",
        "# Generate text\n",
        "prompt = \"Once upon a time\"\n",
        "generated_text = model(prompt, max_length=50, num_return_sequences=1)\n",
        "print(generated_text)\n"
      ]
    },
    {
      "cell_type": "markdown",
      "source": [
        "**History and evolution of LLMs**\n",
        "\n",
        "* **Early models:** Simple statistical methods.\n",
        "* **2013:** Word2Vec introduced by Google.\n",
        "* **2018:** BERT by Google revolutionized the field.\n",
        "* **2019:** GPT-2 by OpenAI showcased powerful text generation.\n",
        "* **2020:** GPT-3 by OpenAI, with 175 billion parameters.\n",
        "\n",
        "**Key concepts and terminology**\n",
        "\n",
        "* **Parameters:** Weights in the model that are learned during training.\n",
        "* **Tokens:** Basic units of text (e.g., words, subwords).\n",
        "* **Training:** Process of adjusting the model’s parameters based on data.\n",
        "* **Inference:** Using a trained model to make predictions or generate text.\n",
        "\n",
        "\n",
        "# **2.Types of Language Models**\n",
        "\n",
        "**Overview of different types of language models**\n",
        "\n",
        "* **Unigram Model:** Considers each word independently.\n",
        "* **Bigram/Trigram Models:** Considers pairs or triples of words.\n",
        "* **Neural Network-based Models:** Uses deep learning for language tasks.\n",
        "\n",
        "\n",
        "**Difference between small and large language models**\n",
        "\n",
        "* **Small Models:** Fewer parameters, faster, less accurate.\n",
        "* **Large Models:** More parameters, slower, more accurate.\n",
        "\n",
        "**Example: Small vs. Large Models**"
      ],
      "metadata": {
        "id": "IdaQPGXuih4h"
      }
    },
    {
      "cell_type": "code",
      "source": [
        "from transformers import pipeline\n",
        "\n",
        "# Small model\n",
        "small_model = pipeline('text-generation', model='distilgpt2')\n",
        "small_output = small_model(\"The quick brown fox\", max_length=50, num_return_sequences=1)\n",
        "print(\"Small model output:\", small_output)\n",
        "\n",
        "# Large model\n",
        "large_model = pipeline('text-generation', model='gpt-3')\n",
        "large_output = large_model(\"The quick brown fox\", max_length=50, num_return_sequences=1)\n",
        "print(\"Large model output:\", large_output)\n"
      ],
      "metadata": {
        "id": "fHWOxmAtjBtI"
      },
      "execution_count": null,
      "outputs": []
    },
    {
      "cell_type": "markdown",
      "source": [
        "# **3. Applications of LLMs**\n",
        "\n",
        "**Text generation**\n",
        "\n",
        "* LLMs can generate coherent and contextually relevant text based on a given prompt."
      ],
      "metadata": {
        "id": "FZHSjK81jLBM"
      }
    },
    {
      "cell_type": "code",
      "source": [
        "from transformers import pipeline\n",
        "\n",
        "# Load a pre-trained language model for text generation\n",
        "text_gen_model = pipeline('text-generation', model='gpt-2')\n",
        "\n",
        "# Generate text\n",
        "prompt = \"Artificial Intelligence is\"\n",
        "generated_text = text_gen_model(prompt, max_length=50, num_return_sequences=1)\n",
        "print(\"Generated text:\", generated_text)\n"
      ],
      "metadata": {
        "id": "OfgBs6bKjQbu"
      },
      "execution_count": null,
      "outputs": []
    },
    {
      "cell_type": "markdown",
      "source": [
        "**Translation**\n",
        "\n",
        "* LLMs can translate text from one language to another."
      ],
      "metadata": {
        "id": "Mg6-eyu-jScj"
      }
    },
    {
      "cell_type": "code",
      "source": [
        "from transformers import pipeline\n",
        "\n",
        "# Load a pre-trained translation model\n",
        "translation_model = pipeline('translation_en_to_fr')\n",
        "\n",
        "# Translate text\n",
        "english_text = \"Hello, how are you?\"\n",
        "french_text = translation_model(english_text, max_length=40)\n",
        "print(\"Translated text:\", french_text)\n"
      ],
      "metadata": {
        "id": "NJi_r85zjXUA"
      },
      "execution_count": null,
      "outputs": []
    },
    {
      "cell_type": "markdown",
      "source": [
        "**Summarization**\n",
        "\n",
        "* LLMs can summarize long pieces of text into concise summaries."
      ],
      "metadata": {
        "id": "IzVYhnw3jYqw"
      }
    },
    {
      "cell_type": "code",
      "source": [
        "from transformers import pipeline\n",
        "\n",
        "# Load a pre-trained summarization model\n",
        "summarization_model = pipeline('summarization')\n",
        "\n",
        "# Summarize text\n",
        "text = \"\"\"Artificial intelligence (AI) is intelligence demonstrated by machines,\n",
        "          in contrast to the natural intelligence displayed by humans and animals.\n",
        "          Leading AI textbooks define the field as the study of \"intelligent agents\":\n",
        "          any device that perceives its environment and takes actions that maximize\n",
        "          its chance of successfully achieving its goals.\"\"\"\n",
        "summary = summarization_model(text, max_length=50, min_length=25, do_sample=False)\n",
        "print(\"Summary:\", summary)\n"
      ],
      "metadata": {
        "id": "hpfcXOlHjdEk"
      },
      "execution_count": null,
      "outputs": []
    },
    {
      "cell_type": "markdown",
      "source": [
        "**Question answering**\n",
        "\n",
        "* LLMs can answer questions based on a given context."
      ],
      "metadata": {
        "id": "UvsEMrRYjent"
      }
    },
    {
      "cell_type": "code",
      "source": [
        "from transformers import pipeline\n",
        "\n",
        "# Load a pre-trained question answering model\n",
        "qa_model = pipeline('question-answering')\n",
        "\n",
        "# Question and context\n",
        "context = \"\"\"Artificial intelligence (AI) is intelligence demonstrated by machines,\n",
        "             in contrast to the natural intelligence displayed by humans and animals.\"\"\"\n",
        "question = \"What is artificial intelligence?\"\n",
        "\n",
        "# Get the answer\n",
        "answer = qa_model(question=question, context=context)\n",
        "print(\"Answer:\", answer)\n"
      ],
      "metadata": {
        "id": "vHzrte82jk19"
      },
      "execution_count": null,
      "outputs": []
    },
    {
      "cell_type": "markdown",
      "source": [
        "**Conversational AI**\n",
        "\n",
        "* LLMs can be used to build chatbots and virtual assistants."
      ],
      "metadata": {
        "id": "xayb3Ib3jmUH"
      }
    },
    {
      "cell_type": "code",
      "source": [
        "from transformers import pipeline\n",
        "\n",
        "# Load a pre-trained conversational model\n",
        "chatbot = pipeline('conversational')\n",
        "\n",
        "# Create a conversation\n",
        "conversation = chatbot(\"Hi, I'm ChatGPT! How can I assist you today?\")\n",
        "print(\"Chatbot response:\", conversation)\n"
      ],
      "metadata": {
        "id": "mMFxBSNOjq5o"
      },
      "execution_count": null,
      "outputs": []
    },
    {
      "cell_type": "markdown",
      "source": [
        "# **4. Ethical and Social Implications**\n",
        "\n",
        "**Bias and fairness in LLMs**\n",
        "\n",
        "* LLMs can inadvertently learn and propagate biases present in the training data.\n",
        "\n",
        "**Example: Gender bias in text generation**"
      ],
      "metadata": {
        "id": "WChWNNaJjrb8"
      }
    },
    {
      "cell_type": "code",
      "source": [
        "from transformers import pipeline\n",
        "\n",
        "# Load a pre-trained language model\n",
        "model = pipeline('text-generation', model='gpt-2')\n",
        "\n",
        "# Generate text with a gender-related prompt\n",
        "prompt = \"The nurse said\"\n",
        "generated_text = model(prompt, max_length=50, num_return_sequences=1)\n",
        "print(\"Generated text with potential bias:\", generated_text)\n"
      ],
      "metadata": {
        "id": "U26kcnHgjzkU"
      },
      "execution_count": null,
      "outputs": []
    },
    {
      "cell_type": "markdown",
      "source": [
        "**Privacy concerns**\n",
        "\n",
        "* LLMs can inadvertently expose sensitive information if trained on unfiltered data.\n",
        "\n",
        "**Ethical use of LLMs**\n",
        "\n",
        "* Ensure transparency in model usage.\n",
        "* Regularly audit models for bias and fairness.\n",
        "* Implement mechanisms to handle sensitive data responsibly."
      ],
      "metadata": {
        "id": "Zw_J-sInj1Ty"
      }
    }
  ]
}